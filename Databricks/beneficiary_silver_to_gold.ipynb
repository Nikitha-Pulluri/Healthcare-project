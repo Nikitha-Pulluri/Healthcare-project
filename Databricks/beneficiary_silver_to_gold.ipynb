{
 "cells": [
  {
   "cell_type": "code",
   "execution_count": 0,
   "metadata": {
    "application/vnd.databricks.v1+cell": {
     "cellMetadata": {
      "byteLimit": 2048000,
      "rowLimit": 10000
     },
     "inputWidgets": {},
     "nuid": "b7bf2002-0783-4f15-a380-3e263bcb9939",
     "showTitle": false,
     "tableResultSettingsMap": {},
     "title": ""
    }
   },
   "outputs": [],
   "source": [
    "from pyspark.sql import functions as F\n",
    "from pyspark.sql.window import Window\n",
    "\n",
    "# Core column and expression functions\n",
    "from pyspark.sql.functions import col, lit, when, lag, datediff\n",
    "\n",
    "# Date-related functions\n",
    "from pyspark.sql.functions import year, month\n",
    "\n",
    "# Aggregation functions\n",
    "from pyspark.sql.functions import sum as _sum, avg, count, rank"
   ]
  },
  {
   "cell_type": "code",
   "execution_count": 0,
   "metadata": {
    "application/vnd.databricks.v1+cell": {
     "cellMetadata": {
      "byteLimit": 2048000,
      "rowLimit": 10000
     },
     "inputWidgets": {},
     "nuid": "e3bd6d0a-f0f4-48fc-bc26-4658418bc890",
     "showTitle": false,
     "tableResultSettingsMap": {},
     "title": ""
    }
   },
   "outputs": [],
   "source": [
    "beneficiary_features = spark.read.parquet(\"/mnt/silver/beneficiary/beneficiary_features\")\n",
    "beneficiary_clean = spark.read.parquet(\"/mnt/silver/beneficiary/beneficiary_clean\")\n"
   ]
  },
  {
   "cell_type": "markdown",
   "metadata": {
    "application/vnd.databricks.v1+cell": {
     "cellMetadata": {
      "byteLimit": 2048000,
      "rowLimit": 10000
     },
     "inputWidgets": {},
     "nuid": "939c2a4f-bee4-4222-91aa-a27e84ed7550",
     "showTitle": false,
     "tableResultSettingsMap": {},
     "title": ""
    }
   },
   "source": [
    " chronic conditions: Help clinical stakeholders identify high-risk groups."
   ]
  },
  {
   "cell_type": "code",
   "execution_count": 0,
   "metadata": {
    "application/vnd.databricks.v1+cell": {
     "cellMetadata": {
      "byteLimit": 2048000,
      "rowLimit": 10000
     },
     "inputWidgets": {},
     "nuid": "d7937771-da3a-4438-9e01-57e72600daca",
     "showTitle": false,
     "tableResultSettingsMap": {},
     "title": ""
    }
   },
   "outputs": [],
   "source": [
    "from pyspark.sql.functions import sum as _sum\n",
    "\n",
    "chronic_by_demo = beneficiary_features.groupBy(\n",
    "    \"age_group\", \"bene_sex_ident_cd\", \"bene_race_cd\"\n",
    ").agg(\n",
    "    _sum(\"sp_diabetes\").alias(\"diabetes_count\"),\n",
    "    _sum(\"sp_chf\").alias(\"chf_count\"),\n",
    "    _sum(\"sp_copd\").alias(\"copd_count\"),\n",
    "    _sum(\"sp_cncr\").alias(\"cancer_count\")\n",
    ")\n",
    "\n",
    "# Save to Gold\n",
    "chronic_by_demo.write.mode(\"overwrite\").parquet(\"/mnt/gold/beneficiary/chronic_condition_by_demo\")\n"
   ]
  },
  {
   "cell_type": "code",
   "execution_count": 0,
   "metadata": {
    "application/vnd.databricks.v1+cell": {
     "cellMetadata": {
      "byteLimit": 2048000,
      "rowLimit": 10000
     },
     "inputWidgets": {},
     "nuid": "c337b862-9aac-44fb-9317-c1199eb719f2",
     "showTitle": false,
     "tableResultSettingsMap": {},
     "title": ""
    }
   },
   "outputs": [],
   "source": [
    "chronic_by_demo.show()\n"
   ]
  },
  {
   "cell_type": "markdown",
   "metadata": {
    "application/vnd.databricks.v1+cell": {
     "cellMetadata": {
      "byteLimit": 2048000,
      "rowLimit": 10000
     },
     "inputWidgets": {},
     "nuid": "ca3b4678-f199-4e0e-9d0d-70ff017b9860",
     "showTitle": false,
     "tableResultSettingsMap": {},
     "title": ""
    }
   },
   "source": []
  },
  {
   "cell_type": "markdown",
   "metadata": {
    "application/vnd.databricks.v1+cell": {
     "cellMetadata": {
      "byteLimit": 2048000,
      "rowLimit": 10000
     },
     "inputWidgets": {},
     "nuid": "fd66483f-8666-460d-8957-9ac31954081d",
     "showTitle": false,
     "tableResultSettingsMap": {},
     "title": ""
    }
   },
   "source": [
    "Assign a health risk score to each beneficiary based on chronic conditions."
   ]
  },
  {
   "cell_type": "code",
   "execution_count": 0,
   "metadata": {
    "application/vnd.databricks.v1+cell": {
     "cellMetadata": {
      "byteLimit": 2048000,
      "rowLimit": 10000
     },
     "inputWidgets": {},
     "nuid": "577c7e04-48a4-4669-8128-60c9e458336d",
     "showTitle": false,
     "tableResultSettingsMap": {},
     "title": ""
    }
   },
   "outputs": [],
   "source": [
    "from pyspark.sql.functions import sum as _sum, col, when, lit\n",
    "from functools import reduce\n",
    "\n",
    "# Define weights for each chronic condition\n",
    "condition_weights = {\n",
    "    \"sp_diabetes\": 1,\n",
    "    \"sp_chf\": 2,\n",
    "    \"sp_cncr\": 2,\n",
    "    \"sp_copd\": 1.5\n",
    "}\n",
    "\n",
    "# Compute risk_score dynamically\n",
    "risk_score_expr = reduce(\n",
    "    lambda acc, item: acc + (col(item[0]) * lit(item[1])),\n",
    "    condition_weights.items(),\n",
    "    lit(0)\n",
    ")\n",
    "\n",
    "# Add risk_score and risk_level\n",
    "beneficiary_risk = beneficiary_features.withColumn(\"risk_score\", risk_score_expr).withColumn(\n",
    "    \"risk_level\",\n",
    "    when(col(\"risk_score\") >= 4, \"High\")\n",
    "    .when(col(\"risk_score\") >= 2, \"Medium\")\n",
    "    .otherwise(\"Low\")\n",
    ")\n",
    "\n",
    "# Select only useful columns for the Gold layer\n",
    "beneficiary_risk = beneficiary_risk.select(\n",
    "    \"desynpuf_id\",\n",
    "    \"age\",\n",
    "    \"age_group\",\n",
    "    \"bene_sex_ident_cd\",\n",
    "    \"bene_race_cd\",\n",
    "    \"sp_diabetes\",\n",
    "    \"sp_chf\",\n",
    "    \"sp_cncr\",\n",
    "    \"sp_copd\",\n",
    "    \"risk_score\",\n",
    "    \"risk_level\"\n",
    ")\n",
    "\n",
    "# Save to Gold\n",
    "beneficiary_risk.write.mode(\"overwrite\").parquet(\"/mnt/gold/beneficiary/beneficiary_risk_scores\")\n"
   ]
  },
  {
   "cell_type": "code",
   "execution_count": 0,
   "metadata": {
    "application/vnd.databricks.v1+cell": {
     "cellMetadata": {
      "byteLimit": 2048000,
      "rowLimit": 10000
     },
     "inputWidgets": {},
     "nuid": "1617fc63-df9e-4047-985e-ffa03a7ed1e9",
     "showTitle": false,
     "tableResultSettingsMap": {},
     "title": ""
    }
   },
   "outputs": [],
   "source": [
    "beneficiary_risk.show()"
   ]
  },
  {
   "cell_type": "markdown",
   "metadata": {
    "application/vnd.databricks.v1+cell": {
     "cellMetadata": {
      "byteLimit": 2048000,
      "rowLimit": 10000
     },
     "inputWidgets": {},
     "nuid": "4c7e4298-fda1-4b4d-9320-bab7110bb766",
     "showTitle": false,
     "tableResultSettingsMap": {},
     "title": ""
    }
   },
   "source": [
    "Age at Death or Current Age"
   ]
  },
  {
   "cell_type": "code",
   "execution_count": 0,
   "metadata": {
    "application/vnd.databricks.v1+cell": {
     "cellMetadata": {
      "byteLimit": 2048000,
      "rowLimit": 10000
     },
     "inputWidgets": {},
     "nuid": "d0a1e18c-3a01-4105-8e1d-c98f253b2dfb",
     "showTitle": false,
     "tableResultSettingsMap": {},
     "title": ""
    }
   },
   "outputs": [],
   "source": [
    "from pyspark.sql.functions import datediff, current_date\n",
    "\n",
    "beneficiary_age = beneficiary_clean.withColumn(\n",
    "    \"age_at_death_or_current\",\n",
    "    when(\n",
    "        col(\"bene_death_dt\").isNotNull(),\n",
    "        (datediff(col(\"bene_death_dt\"), col(\"bene_birth_dt\")) / 365).cast(\"int\")\n",
    "    ).otherwise(\n",
    "        (datediff(current_date(), col(\"bene_birth_dt\")) / 365).cast(\"int\")\n",
    "    )\n",
    ")\n",
    "\n",
    "beneficiary_age = beneficiary_age.select(\n",
    "    \"desynpuf_id\",\n",
    "    \"bene_birth_dt\",\n",
    "    \"bene_death_dt\",\n",
    "    \"bene_sex_ident_cd\",\n",
    "    \"bene_race_cd\",\n",
    "    \"age_at_death_or_current\"\n",
    ")\n",
    "\n",
    "# Save to Gold\n",
    "beneficiary_age.write.mode(\"overwrite\").parquet(\"/mnt/gold/beneficiary/beneficiary_lifespan\")\n"
   ]
  },
  {
   "cell_type": "code",
   "execution_count": 0,
   "metadata": {
    "application/vnd.databricks.v1+cell": {
     "cellMetadata": {
      "byteLimit": 2048000,
      "rowLimit": 10000
     },
     "inputWidgets": {},
     "nuid": "521a6a16-2a54-4bc1-a933-592cbe6caf28",
     "showTitle": false,
     "tableResultSettingsMap": {},
     "title": ""
    }
   },
   "outputs": [],
   "source": [
    "beneficiary_age.show()"
   ]
  }
 ],
 "metadata": {
  "application/vnd.databricks.v1+notebook": {
   "computePreferences": null,
   "dashboards": [],
   "environmentMetadata": {
    "base_environment": "",
    "environment_version": "2"
   },
   "inputWidgetPreferences": null,
   "language": "python",
   "notebookMetadata": {
    "pythonIndentUnit": 4
   },
   "notebookName": "beneficiary_silver_to_gold",
   "widgets": {}
  },
  "language_info": {
   "name": "python"
  }
 },
 "nbformat": 4,
 "nbformat_minor": 0
}
