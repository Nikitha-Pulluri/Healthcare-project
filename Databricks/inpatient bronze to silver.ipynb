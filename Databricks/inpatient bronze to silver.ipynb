{
 "cells": [
  {
   "cell_type": "code",
   "execution_count": 0,
   "metadata": {
    "application/vnd.databricks.v1+cell": {
     "cellMetadata": {
      "byteLimit": 2048000,
      "rowLimit": 10000
     },
     "inputWidgets": {},
     "nuid": "b5aa86f1-0995-4705-aaba-c193030200fa",
     "showTitle": false,
     "tableResultSettingsMap": {},
     "title": ""
    }
   },
   "outputs": [],
   "source": [
    "inpatient = spark.read.parquet(\"/mnt/bronze/inpatient/inpatient_claims.parquet\")"
   ]
  },
  {
   "cell_type": "code",
   "execution_count": 0,
   "metadata": {
    "application/vnd.databricks.v1+cell": {
     "cellMetadata": {
      "byteLimit": 2048000,
      "rowLimit": 10000
     },
     "inputWidgets": {},
     "nuid": "5efb2bbf-9958-413e-8aa1-726952ffcc2d",
     "showTitle": false,
     "tableResultSettingsMap": {},
     "title": ""
    }
   },
   "outputs": [],
   "source": [
    "from pyspark.sql.functions import col, to_date, year, when, lit\n",
    "\n",
    "def standardize_columns(df):\n",
    "    return df.toDF(*[c.lower() for c in df.columns])\n",
    "# Clean Inpatient\n",
    "\n",
    "inpatient_clean = (\n",
    "    inpatient.dropDuplicates([\"DESYNPUF_ID\", \"CLM_ID\"])\n",
    "    .withColumn(\"CLM_ADMSN_DT\", to_date(col(\"CLM_ADMSN_DT\"), \"yyyyMMdd\"))\n",
    "    .withColumn(\"CLM_FROM_DT\", to_date(col(\"CLM_FROM_DT\"), \"yyyyMMdd\"))\n",
    "    .withColumn(\"CLM_THRU_DT\", to_date(col(\"CLM_THRU_DT\"), \"yyyyMMdd\"))\n",
    "    .withColumn(\"NCH_BENE_DSCHRG_DT\", to_date(col(\"NCH_BENE_DSCHRG_DT\"), \"yyyyMMdd\"))\n",
    "    .fillna(\"unknown\")\n",
    ")"
   ]
  },
  {
   "cell_type": "code",
   "execution_count": 0,
   "metadata": {
    "application/vnd.databricks.v1+cell": {
     "cellMetadata": {
      "byteLimit": 2048000,
      "rowLimit": 10000
     },
     "inputWidgets": {},
     "nuid": "bbea13a5-6c4b-4662-bcad-9ccc4e7463b2",
     "showTitle": false,
     "tableResultSettingsMap": {},
     "title": ""
    }
   },
   "outputs": [],
   "source": [
    "inpatient_clean.write.mode(\"overwrite\").parquet(\"/mnt/silver/inpatient/inpatient_clean\")"
   ]
  },
  {
   "cell_type": "code",
   "execution_count": 0,
   "metadata": {
    "application/vnd.databricks.v1+cell": {
     "cellMetadata": {
      "byteLimit": 2048000,
      "rowLimit": 10000
     },
     "inputWidgets": {},
     "nuid": "8114454a-1bce-4eb8-bab7-de9467d517a5",
     "showTitle": false,
     "tableResultSettingsMap": {},
     "title": ""
    }
   },
   "outputs": [],
   "source": [
    "from pyspark.sql.functions import col, year, when, to_date, lit\n",
    "\n",
    "# Inpatient Silver Table\n",
    "inpatient_silver = inpatient_clean.filter(\n",
    "    col(\"clm_admsn_dt\").isNotNull()\n",
    ").select(\n",
    "    \"desynpuf_id\", \"clm_id\", \"clm_admsn_dt\", \"clm_drg_cd\",\n",
    "    \"nch_bene_dschrg_dt\", \"admtng_icd9_dgns_cd\", \"icd9_dgns_cd_1\"\n",
    ")"
   ]
  },
  {
   "cell_type": "code",
   "execution_count": 0,
   "metadata": {
    "application/vnd.databricks.v1+cell": {
     "cellMetadata": {
      "byteLimit": 2048000,
      "rowLimit": 10000
     },
     "inputWidgets": {},
     "nuid": "f109303d-e317-46f8-8de6-aaadf7b10363",
     "showTitle": false,
     "tableResultSettingsMap": {},
     "title": ""
    }
   },
   "outputs": [],
   "source": [
    "inpatient_silver.write.mode(\"overwrite\").parquet(\"/mnt/silver/inpatient/inpatient_silver\")"
   ]
  }
 ],
 "metadata": {
  "application/vnd.databricks.v1+notebook": {
   "computePreferences": null,
   "dashboards": [],
   "environmentMetadata": {
    "base_environment": "",
    "environment_version": "2"
   },
   "inputWidgetPreferences": null,
   "language": "python",
   "notebookMetadata": {
    "pythonIndentUnit": 4
   },
   "notebookName": "inpatient bronze to silver",
   "widgets": {}
  },
  "language_info": {
   "name": "python"
  }
 },
 "nbformat": 4,
 "nbformat_minor": 0
}
