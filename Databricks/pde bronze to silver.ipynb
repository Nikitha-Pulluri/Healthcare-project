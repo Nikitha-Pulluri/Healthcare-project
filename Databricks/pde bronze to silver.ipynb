{
 "cells": [
  {
   "cell_type": "code",
   "execution_count": 0,
   "metadata": {
    "application/vnd.databricks.v1+cell": {
     "cellMetadata": {
      "byteLimit": 2048000,
      "rowLimit": 10000
     },
     "inputWidgets": {},
     "nuid": "6dbe1e05-6f2a-45d2-a935-56e980f4013e",
     "showTitle": false,
     "tableResultSettingsMap": {},
     "title": ""
    }
   },
   "outputs": [],
   "source": [
    "pde = spark.read.parquet(\"/mnt/bronze/pde/Prescription_Drug_Events.parquet\")"
   ]
  },
  {
   "cell_type": "code",
   "execution_count": 0,
   "metadata": {
    "application/vnd.databricks.v1+cell": {
     "cellMetadata": {
      "byteLimit": 2048000,
      "rowLimit": 10000
     },
     "inputWidgets": {},
     "nuid": "e7f80171-78cc-4163-91c4-c61968855e7f",
     "showTitle": false,
     "tableResultSettingsMap": {},
     "title": ""
    }
   },
   "outputs": [],
   "source": [
    "from pyspark.sql.functions import col, to_date, year, when, lit\n",
    "\n",
    "def standardize_columns(df):\n",
    "    return df.toDF(*[c.lower() for c in df.columns])\n",
    "\n",
    "# Clean PDE\n",
    "pde_clean = (\n",
    "    pde.dropDuplicates([\"DESYNPUF_ID\", \"PDE_ID\"])\n",
    "    .withColumn(\"SRVC_DT\", to_date(col(\"SRVC_DT\"), \"yyyyMMdd\"))\n",
    "    .fillna(0)\n",
    ")\n",
    "\n",
    "pde_clean = standardize_columns(pde_clean)"
   ]
  },
  {
   "cell_type": "code",
   "execution_count": 0,
   "metadata": {
    "application/vnd.databricks.v1+cell": {
     "cellMetadata": {
      "byteLimit": 2048000,
      "rowLimit": 10000
     },
     "inputWidgets": {},
     "nuid": "981e134c-5854-4a67-a399-9342b13b624f",
     "showTitle": false,
     "tableResultSettingsMap": {},
     "title": ""
    }
   },
   "outputs": [],
   "source": [
    "pde_clean.write.mode(\"overwrite\").parquet(\"/mnt/silver/pde/pde_clean\")"
   ]
  },
  {
   "cell_type": "code",
   "execution_count": 0,
   "metadata": {
    "application/vnd.databricks.v1+cell": {
     "cellMetadata": {
      "byteLimit": 2048000,
      "rowLimit": 10000
     },
     "inputWidgets": {},
     "nuid": "0daf296c-fac5-4aa9-b97f-3e464cd53101",
     "showTitle": false,
     "tableResultSettingsMap": {},
     "title": ""
    }
   },
   "outputs": [],
   "source": [
    "from pyspark.sql.functions import col, year, when, to_date, lit\n",
    "\n",
    "# PDE Silver Table\n",
    "pde_silver = pde_clean.select(\n",
    "    \"desynpuf_id\", \"pde_id\", \"srvc_dt\", \"prod_srvc_id\",\n",
    "    \"qty_dspnsd_num\", \"tot_rx_cst_amt\", \"ptnt_pay_amt\"\n",
    ")"
   ]
  },
  {
   "cell_type": "code",
   "execution_count": 0,
   "metadata": {
    "application/vnd.databricks.v1+cell": {
     "cellMetadata": {
      "byteLimit": 2048000,
      "rowLimit": 10000
     },
     "inputWidgets": {},
     "nuid": "16477d1e-c2ff-4d57-9cbb-3e69fd7be29b",
     "showTitle": false,
     "tableResultSettingsMap": {},
     "title": ""
    }
   },
   "outputs": [],
   "source": [
    "pde_silver.write.mode(\"overwrite\").parquet(\"/mnt/silver/pde/pde_silver\")"
   ]
  }
 ],
 "metadata": {
  "application/vnd.databricks.v1+notebook": {
   "computePreferences": null,
   "dashboards": [],
   "environmentMetadata": {
    "base_environment": "",
    "environment_version": "2"
   },
   "inputWidgetPreferences": null,
   "language": "python",
   "notebookMetadata": {
    "pythonIndentUnit": 4
   },
   "notebookName": "pde bronze to silver",
   "widgets": {}
  },
  "language_info": {
   "name": "python"
  }
 },
 "nbformat": 4,
 "nbformat_minor": 0
}
