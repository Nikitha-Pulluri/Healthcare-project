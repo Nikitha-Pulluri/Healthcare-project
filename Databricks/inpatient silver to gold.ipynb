{
 "cells": [
  {
   "cell_type": "code",
   "execution_count": 0,
   "metadata": {
    "application/vnd.databricks.v1+cell": {
     "cellMetadata": {
      "byteLimit": 2048000,
      "rowLimit": 10000
     },
     "inputWidgets": {},
     "nuid": "9587fe02-1fae-4efd-af96-48c7595a3461",
     "showTitle": false,
     "tableResultSettingsMap": {},
     "title": ""
    }
   },
   "outputs": [],
   "source": [
    "from pyspark.sql import functions as F\n",
    "from pyspark.sql.window import Window\n",
    "\n",
    "# Core column and expression functions\n",
    "from pyspark.sql.functions import col, lit, when, lag, datediff\n",
    "\n",
    "# Date-related functions\n",
    "from pyspark.sql.functions import year, month\n",
    "\n",
    "# Aggregation functions\n",
    "from pyspark.sql.functions import sum as _sum, avg, count, rank"
   ]
  },
  {
   "cell_type": "code",
   "execution_count": 0,
   "metadata": {
    "application/vnd.databricks.v1+cell": {
     "cellMetadata": {
      "byteLimit": 2048000,
      "rowLimit": 10000
     },
     "inputWidgets": {},
     "nuid": "32d48ee2-8325-4ab2-8682-1d19cdf165bf",
     "showTitle": false,
     "tableResultSettingsMap": {},
     "title": ""
    }
   },
   "outputs": [],
   "source": [
    "inpatient_silver = spark.read.parquet(\"/mnt/silver/inpatient/inpatient_silver\")"
   ]
  },
  {
   "cell_type": "markdown",
   "metadata": {
    "application/vnd.databricks.v1+cell": {
     "cellMetadata": {},
     "inputWidgets": {},
     "nuid": "401bdf1a-64c4-4e5b-8ba8-74df994f1e07",
     "showTitle": false,
     "tableResultSettingsMap": {},
     "title": ""
    }
   },
   "source": [
    "Lenght of stay analysis"
   ]
  },
  {
   "cell_type": "code",
   "execution_count": 0,
   "metadata": {
    "application/vnd.databricks.v1+cell": {
     "cellMetadata": {
      "byteLimit": 2048000,
      "rowLimit": 10000
     },
     "inputWidgets": {},
     "nuid": "7a8bb0f1-7f58-4c24-9c04-168ce880dea4",
     "showTitle": false,
     "tableResultSettingsMap": {},
     "title": ""
    }
   },
   "outputs": [],
   "source": [
    "from pyspark.sql.functions import datediff\n",
    "\n",
    "inpatient_los = inpatient_silver.withColumn(\n",
    "    \"length_of_stay\",\n",
    "    datediff(col(\"nch_bene_dschrg_dt\"), col(\"clm_admsn_dt\"))\n",
    ").select(\n",
    "    \"desynpuf_id\",\n",
    "    \"clm_id\",\n",
    "    \"clm_admsn_dt\",\n",
    "    \"nch_bene_dschrg_dt\",\n",
    "    \"length_of_stay\"\n",
    ")\n",
    "\n",
    "inpatient_los.write.mode(\"overwrite\").parquet(\"/mnt/gold/inpatient/length_of_stay\")\n"
   ]
  },
  {
   "cell_type": "code",
   "execution_count": 0,
   "metadata": {
    "application/vnd.databricks.v1+cell": {
     "cellMetadata": {
      "byteLimit": 2048000,
      "rowLimit": 10000
     },
     "inputWidgets": {},
     "nuid": "b51e828c-78dd-4182-b2d0-a177e1937d77",
     "showTitle": false,
     "tableResultSettingsMap": {},
     "title": ""
    }
   },
   "outputs": [],
   "source": [
    "inpatient_los.show()"
   ]
  },
  {
   "cell_type": "markdown",
   "metadata": {
    "application/vnd.databricks.v1+cell": {
     "cellMetadata": {},
     "inputWidgets": {},
     "nuid": "00d7a829-5f07-42c4-a72c-052c573f7de0",
     "showTitle": false,
     "tableResultSettingsMap": {},
     "title": ""
    }
   },
   "source": [
    "Top DRGs by frequency"
   ]
  },
  {
   "cell_type": "code",
   "execution_count": 0,
   "metadata": {
    "application/vnd.databricks.v1+cell": {
     "cellMetadata": {
      "byteLimit": 2048000,
      "rowLimit": 10000
     },
     "inputWidgets": {},
     "nuid": "ff007237-069e-4361-9471-54bcb88a1cea",
     "showTitle": false,
     "tableResultSettingsMap": {},
     "title": ""
    }
   },
   "outputs": [],
   "source": [
    "from pyspark.sql.functions import count\n",
    "\n",
    "top_drg = inpatient_silver.groupBy(\"clm_drg_cd\") \\\n",
    "    .agg(count(\"clm_id\").alias(\"claim_count\")) \\\n",
    "    .orderBy(\"claim_count\", ascending=False)\n",
    "\n",
    "top_drg.write.mode(\"overwrite\").parquet(\"/mnt/gold/inpatient/top_drg\")\n"
   ]
  },
  {
   "cell_type": "code",
   "execution_count": 0,
   "metadata": {
    "application/vnd.databricks.v1+cell": {
     "cellMetadata": {
      "byteLimit": 2048000,
      "rowLimit": 10000
     },
     "inputWidgets": {},
     "nuid": "21eabfd5-8a6d-4e03-aabe-79d7234acf50",
     "showTitle": false,
     "tableResultSettingsMap": {},
     "title": ""
    }
   },
   "outputs": [],
   "source": [
    "top_drg.show()"
   ]
  },
  {
   "cell_type": "markdown",
   "metadata": {
    "application/vnd.databricks.v1+cell": {
     "cellMetadata": {},
     "inputWidgets": {},
     "nuid": "fbf97f70-2bae-43a3-8580-d2aa081f442a",
     "showTitle": false,
     "tableResultSettingsMap": {},
     "title": ""
    }
   },
   "source": [
    "Admissions over time"
   ]
  },
  {
   "cell_type": "code",
   "execution_count": 0,
   "metadata": {
    "application/vnd.databricks.v1+cell": {
     "cellMetadata": {
      "byteLimit": 2048000,
      "rowLimit": 10000
     },
     "inputWidgets": {},
     "nuid": "fca753e8-297b-47ba-9762-1fd0bf049a05",
     "showTitle": false,
     "tableResultSettingsMap": {},
     "title": ""
    }
   },
   "outputs": [],
   "source": [
    "admissions_by_date = inpatient_silver.groupBy(\"clm_admsn_dt\") \\\n",
    "    .agg(count(\"clm_id\").alias(\"admissions\")) \\\n",
    "    .orderBy(\"clm_admsn_dt\")\n",
    "\n",
    "admissions_by_date.write.mode(\"overwrite\").parquet(\"/mnt/gold/inpatient/admissions_by_date\")\n"
   ]
  },
  {
   "cell_type": "code",
   "execution_count": 0,
   "metadata": {
    "application/vnd.databricks.v1+cell": {
     "cellMetadata": {
      "byteLimit": 2048000,
      "rowLimit": 10000
     },
     "inputWidgets": {},
     "nuid": "ba9e7b6f-aa1e-4b63-9e27-bef49e9e828f",
     "showTitle": false,
     "tableResultSettingsMap": {},
     "title": ""
    }
   },
   "outputs": [],
   "source": [
    "admissions_by_date.show()"
   ]
  }
 ],
 "metadata": {
  "application/vnd.databricks.v1+notebook": {
   "computePreferences": null,
   "dashboards": [],
   "environmentMetadata": {
    "base_environment": "",
    "environment_version": "2"
   },
   "inputWidgetPreferences": null,
   "language": "python",
   "notebookMetadata": {
    "pythonIndentUnit": 4
   },
   "notebookName": "inpatient silver to gold",
   "widgets": {}
  },
  "language_info": {
   "name": "python"
  }
 },
 "nbformat": 4,
 "nbformat_minor": 0
}
