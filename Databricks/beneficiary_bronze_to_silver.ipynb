{
 "cells": [
  {
   "cell_type": "code",
   "execution_count": 0,
   "metadata": {
    "application/vnd.databricks.v1+cell": {
     "cellMetadata": {
      "byteLimit": 2048000,
      "rowLimit": 10000
     },
     "inputWidgets": {},
     "nuid": "bbebfb68-3fdf-4ccc-8c41-12030bdcf90d",
     "showTitle": false,
     "tableResultSettingsMap": {},
     "title": ""
    }
   },
   "outputs": [],
   "source": [
    "from pyspark.sql.functions import lit\n",
    "\n",
    "# Load 2008 data\n",
    "benef_2008 = (\n",
    "    spark.read\n",
    "    .parquet(\"/mnt/bronze/beneficiary/Beneficiary_Summary_File_2008.parquet\")\n",
    "    .withColumn(\"YEAR\", lit(2008))\n",
    ")\n",
    "\n",
    "# Load 2009 data\n",
    "benef_2009 = (\n",
    "    spark.read\n",
    "    .parquet(\"/mnt/bronze/beneficiary/Beneficiary_Summary_File_2009.parquet\")\n",
    "    .withColumn(\"YEAR\", lit(2009))\n",
    ")\n",
    "\n",
    "# Load 2010 data\n",
    "benef_2010 = (\n",
    "    spark.read\n",
    "    .parquet(\"/mnt/bronze/beneficiary/Beneficiary_Summary_File_2010.parquet\")\n",
    "    .withColumn(\"YEAR\", lit(2010))\n",
    ")\n",
    "\n",
    "# Union all years\n",
    "beneficiary_all_years = benef_2008.unionByName(benef_2009).unionByName(benef_2010)\n",
    "\n",
    "# Display the result\n",
    "display(beneficiary_all_years)\n",
    "\n"
   ]
  },
  {
   "cell_type": "code",
   "execution_count": 0,
   "metadata": {
    "application/vnd.databricks.v1+cell": {
     "cellMetadata": {
      "byteLimit": 2048000,
      "rowLimit": 10000
     },
     "inputWidgets": {},
     "nuid": "636f6d06-4593-4dc0-a1a1-2169c9a9d15f",
     "showTitle": false,
     "tableResultSettingsMap": {},
     "title": ""
    }
   },
   "outputs": [],
   "source": [
    "beneficiary_all_years.write.mode(\"overwrite\").parquet(\"/mnt/silver/beneficiary/beneficiary_all_years\")"
   ]
  },
  {
   "cell_type": "code",
   "execution_count": 0,
   "metadata": {
    "application/vnd.databricks.v1+cell": {
     "cellMetadata": {
      "byteLimit": 2048000,
      "rowLimit": 10000
     },
     "inputWidgets": {},
     "nuid": "a1627291-8c1b-4e31-94cd-a3581af40b7e",
     "showTitle": false,
     "tableResultSettingsMap": {},
     "title": ""
    }
   },
   "outputs": [],
   "source": [
    "beneficiary = spark.read.parquet(\"/mnt/silver/beneficiary/beneficiary_all_years\")"
   ]
  },
  {
   "cell_type": "markdown",
   "metadata": {
    "application/vnd.databricks.v1+cell": {
     "cellMetadata": {},
     "inputWidgets": {},
     "nuid": "1efab82f-feaf-4da8-9f39-5288a87a843f",
     "showTitle": false,
     "tableResultSettingsMap": {},
     "title": ""
    }
   },
   "source": [
    "Beneficiary: Converts birth and death dates to proper date format, calculates age as of 2010, derives AGE_GROUP, removes duplicates, fills nulls, and standardizes column names to lowercase"
   ]
  },
  {
   "cell_type": "code",
   "execution_count": 0,
   "metadata": {
    "application/vnd.databricks.v1+cell": {
     "cellMetadata": {
      "byteLimit": 2048000,
      "rowLimit": 10000
     },
     "inputWidgets": {},
     "nuid": "22bf677c-81c7-46dd-b42a-d607e788d967",
     "showTitle": false,
     "tableResultSettingsMap": {},
     "title": ""
    }
   },
   "outputs": [],
   "source": [
    "from pyspark.sql.functions import to_date, col, year, lit, when\n",
    "def standardize_columns(df):\n",
    "\n",
    "    return df.toDF(*[c.lower() for c in df.columns])\n",
    "\n",
    "# Clean Beneficiary\n",
    "\n",
    "beneficiary_clean = (\n",
    "    beneficiary.dropDuplicates([\"DESYNPUF_ID\"])\n",
    "    .withColumn(\"BENE_BIRTH_DT\", to_date(col(\"BENE_BIRTH_DT\"), \"yyyyMMdd\"))\n",
    "    .withColumn(\"BENE_DEATH_DT\", to_date(col(\"BENE_DEATH_DT\"), \"yyyyMMdd\"))\n",
    "    .withColumn(\"AGE\", lit(2010) - year(col(\"BENE_BIRTH_DT\")))  \n",
    "    .withColumn(\n",
    "        \"AGE_GROUP\",\n",
    "        when(col(\"AGE\") < 70, \"<70\")\n",
    "        .when((col(\"AGE\") >= 70) & (col(\"AGE\") < 75), \"70-74\")\n",
    "        .when((col(\"AGE\") >= 75) & (col(\"AGE\") < 80), \"75-79\")\n",
    "        .otherwise(\"80+\")\n",
    "    )\n",
    "    .na.drop(subset=[\"BENE_BIRTH_DT\"])  # critical column\n",
    "    .fillna(0)  # fill other nulls\n",
    ")\n",
    "\n",
    "beneficiary_clean = standardize_columns(beneficiary_clean)"
   ]
  },
  {
   "cell_type": "code",
   "execution_count": 0,
   "metadata": {
    "application/vnd.databricks.v1+cell": {
     "cellMetadata": {
      "byteLimit": 2048000,
      "rowLimit": 10000
     },
     "inputWidgets": {},
     "nuid": "e8a64f86-0b66-4012-98c5-e49f195f6bb7",
     "showTitle": false,
     "tableResultSettingsMap": {},
     "title": ""
    }
   },
   "outputs": [],
   "source": [
    "beneficiary_clean.write.mode(\"overwrite\").parquet(\"/mnt/silver/beneficiary/beneficiary_clean\")"
   ]
  },
  {
   "cell_type": "code",
   "execution_count": 0,
   "metadata": {
    "application/vnd.databricks.v1+cell": {
     "cellMetadata": {
      "byteLimit": 2048000,
      "rowLimit": 10000
     },
     "inputWidgets": {},
     "nuid": "2e01f78c-4689-4440-9f0b-eba5cd5f9e3b",
     "showTitle": false,
     "tableResultSettingsMap": {},
     "title": ""
    }
   },
   "outputs": [],
   "source": [
    "# Beneficiary Silver Table\n",
    "beneficiary_filtered = beneficiary_clean.select(\n",
    "    \"desynpuf_id\", \"bene_birth_dt\", \"bene_death_dt\",\n",
    "    \"bene_sex_ident_cd\", \"bene_race_cd\",\n",
    "    \"age\", \"age_group\",\n",
    "    \"sp_alzhdmta\", \"sp_chf\", \"sp_chrnkidn\", \"sp_cncr\",\n",
    "    \"sp_copd\", \"sp_depressn\", \"sp_diabetes\", \"sp_ischmcht\",\n",
    "    \"sp_osteoprs\", \"sp_ra_oa\", \"sp_strketia\"\n",
    ")"
   ]
  },
  {
   "cell_type": "code",
   "execution_count": 0,
   "metadata": {
    "application/vnd.databricks.v1+cell": {
     "cellMetadata": {
      "byteLimit": 2048000,
      "rowLimit": 10000
     },
     "inputWidgets": {},
     "nuid": "08a66a22-c048-4ffb-b187-8424664f1e29",
     "showTitle": false,
     "tableResultSettingsMap": {},
     "title": ""
    }
   },
   "outputs": [],
   "source": [
    "beneficiary_filtered.write.mode(\"overwrite\").parquet(\"/mnt/silver/beneficiary/beneficiary_filtered\")"
   ]
  },
  {
   "cell_type": "code",
   "execution_count": 0,
   "metadata": {
    "application/vnd.databricks.v1+cell": {
     "cellMetadata": {
      "byteLimit": 2048000,
      "rowLimit": 10000
     },
     "inputWidgets": {},
     "nuid": "ae6c95cd-2882-4982-95ec-9bbbc678a0a6",
     "showTitle": false,
     "tableResultSettingsMap": {},
     "title": ""
    }
   },
   "outputs": [],
   "source": [
    "from pyspark.sql.functions import when\n",
    "\n",
    "beneficiary_features = (\n",
    "    beneficiary_clean\n",
    "    .withColumn(\n",
    "        \"IS_HIGH_COST_PATIENT\",\n",
    "        when(\n",
    "            (col(\"MEDREIMB_IP\") + col(\"MEDREIMB_OP\") + col(\"MEDREIMB_CAR\")) > 10000,\n",
    "            1\n",
    "        ).otherwise(0)\n",
    "    )\n",
    ")"
   ]
  },
  {
   "cell_type": "code",
   "execution_count": 0,
   "metadata": {
    "application/vnd.databricks.v1+cell": {
     "cellMetadata": {
      "byteLimit": 2048000,
      "rowLimit": 10000
     },
     "inputWidgets": {},
     "nuid": "7c1fdc27-ea66-403c-96fd-e673c5bd6c8a",
     "showTitle": false,
     "tableResultSettingsMap": {},
     "title": ""
    }
   },
   "outputs": [],
   "source": [
    "beneficiary_features.write.mode(\"overwrite\").parquet(\"/mnt/silver/beneficiary/beneficiary_features\")"
   ]
  }
 ],
 "metadata": {
  "application/vnd.databricks.v1+notebook": {
   "computePreferences": null,
   "dashboards": [],
   "environmentMetadata": {
    "base_environment": "",
    "environment_version": "2"
   },
   "inputWidgetPreferences": null,
   "language": "python",
   "notebookMetadata": {
    "pythonIndentUnit": 4
   },
   "notebookName": "beneficiary_bronze_to_silver",
   "widgets": {}
  },
  "language_info": {
   "name": "python"
  }
 },
 "nbformat": 4,
 "nbformat_minor": 0
}
