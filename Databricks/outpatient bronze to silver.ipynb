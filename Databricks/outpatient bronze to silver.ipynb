{
 "cells": [
  {
   "cell_type": "code",
   "execution_count": 0,
   "metadata": {
    "application/vnd.databricks.v1+cell": {
     "cellMetadata": {
      "byteLimit": 2048000,
      "rowLimit": 10000
     },
     "inputWidgets": {},
     "nuid": "6ccdc8c2-7717-4f75-a433-d246d13c58db",
     "showTitle": false,
     "tableResultSettingsMap": {},
     "title": ""
    }
   },
   "outputs": [],
   "source": [
    "outpatient = spark.read.parquet(\"/mnt/bronze/outpatient/outpatient_claims.parquet\")"
   ]
  },
  {
   "cell_type": "code",
   "execution_count": 0,
   "metadata": {
    "application/vnd.databricks.v1+cell": {
     "cellMetadata": {
      "byteLimit": 2048000,
      "rowLimit": 10000
     },
     "inputWidgets": {},
     "nuid": "09f39709-ab49-4a75-9d88-4740a1fa5d8a",
     "showTitle": false,
     "tableResultSettingsMap": {},
     "title": ""
    }
   },
   "outputs": [],
   "source": [
    "from pyspark.sql.functions import col, to_date, year, when, lit\n",
    "\n",
    "def standardize_columns(df):\n",
    "    return df.toDF(*[c.lower() for c in df.columns])\n",
    "# Clean Outpatient\n",
    "outpatient_clean = (\n",
    "    outpatient.dropDuplicates([\"DESYNPUF_ID\", \"CLM_ID\"])\n",
    "    .withColumn(\"CLM_FROM_DT\", to_date(col(\"CLM_FROM_DT\"), \"yyyyMMdd\"))\n",
    "    .withColumn(\"CLM_THRU_DT\", to_date(col(\"CLM_THRU_DT\"), \"yyyyMMdd\"))\n",
    "    .fillna(\"unknown\")\n",
    ")"
   ]
  },
  {
   "cell_type": "code",
   "execution_count": 0,
   "metadata": {
    "application/vnd.databricks.v1+cell": {
     "cellMetadata": {
      "byteLimit": 2048000,
      "rowLimit": 10000
     },
     "inputWidgets": {},
     "nuid": "096319d3-e5a1-424f-9b91-3faac5909c6f",
     "showTitle": false,
     "tableResultSettingsMap": {},
     "title": ""
    }
   },
   "outputs": [],
   "source": [
    "outpatient_clean.write.mode(\"overwrite\").parquet(\"/mnt/silver/outpatient/outpatient_clean\")"
   ]
  },
  {
   "cell_type": "code",
   "execution_count": 0,
   "metadata": {
    "application/vnd.databricks.v1+cell": {
     "cellMetadata": {
      "byteLimit": 2048000,
      "rowLimit": 10000
     },
     "inputWidgets": {},
     "nuid": "e0459787-7e9b-4a79-a394-25bd232fbff6",
     "showTitle": false,
     "tableResultSettingsMap": {},
     "title": ""
    }
   },
   "outputs": [],
   "source": [
    "from pyspark.sql.functions import col, year, when, to_date, lit\n",
    "\n",
    "# Outpatient Silver Table\n",
    "outpatient_silver = outpatient_clean.select(\n",
    "    \"desynpuf_id\", \"clm_id\", \"clm_from_dt\", \"clm_thru_dt\",\n",
    "    \"icd9_dgns_cd_1\", \"hcpcs_cd_1\", \"admtng_icd9_dgns_cd\"\n",
    ")"
   ]
  },
  {
   "cell_type": "code",
   "execution_count": 0,
   "metadata": {
    "application/vnd.databricks.v1+cell": {
     "cellMetadata": {
      "byteLimit": 2048000,
      "rowLimit": 10000
     },
     "inputWidgets": {},
     "nuid": "d3cabf9b-12fe-46e9-bee1-061837636488",
     "showTitle": false,
     "tableResultSettingsMap": {},
     "title": ""
    }
   },
   "outputs": [],
   "source": [
    "outpatient_silver.write.mode(\"overwrite\").parquet(\"/mnt/silver/outpatient/outpatient_silver\")"
   ]
  }
 ],
 "metadata": {
  "application/vnd.databricks.v1+notebook": {
   "computePreferences": null,
   "dashboards": [],
   "environmentMetadata": {
    "base_environment": "",
    "environment_version": "2"
   },
   "inputWidgetPreferences": null,
   "language": "python",
   "notebookMetadata": {
    "pythonIndentUnit": 4
   },
   "notebookName": "outpatient bronze to silver",
   "widgets": {}
  },
  "language_info": {
   "name": "python"
  }
 },
 "nbformat": 4,
 "nbformat_minor": 0
}
