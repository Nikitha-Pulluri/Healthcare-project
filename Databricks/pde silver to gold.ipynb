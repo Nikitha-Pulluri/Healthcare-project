{
 "cells": [
  {
   "cell_type": "code",
   "execution_count": 0,
   "metadata": {
    "application/vnd.databricks.v1+cell": {
     "cellMetadata": {
      "byteLimit": 2048000,
      "rowLimit": 10000
     },
     "inputWidgets": {},
     "nuid": "b47d35b3-16ce-41ec-8136-f4f058f60330",
     "showTitle": false,
     "tableResultSettingsMap": {},
     "title": ""
    }
   },
   "outputs": [],
   "source": [
    "from pyspark.sql import functions as F\n",
    "from pyspark.sql.window import Window\n",
    "\n",
    "# Core column and expression functions\n",
    "from pyspark.sql.functions import col, lit, when, lag, datediff\n",
    "\n",
    "# Date-related functions\n",
    "from pyspark.sql.functions import year, month\n",
    "\n",
    "# Aggregation functions\n",
    "from pyspark.sql.functions import sum as _sum, avg, count, rank"
   ]
  },
  {
   "cell_type": "code",
   "execution_count": 0,
   "metadata": {
    "application/vnd.databricks.v1+cell": {
     "cellMetadata": {
      "byteLimit": 2048000,
      "rowLimit": 10000
     },
     "inputWidgets": {},
     "nuid": "9a62ab0c-5cc7-4842-96c7-059667d5b0a0",
     "showTitle": false,
     "tableResultSettingsMap": {},
     "title": ""
    }
   },
   "outputs": [],
   "source": [
    "pde_silver = spark.read.parquet(\"/mnt/silver/pde/pde_silver\")"
   ]
  },
  {
   "cell_type": "markdown",
   "metadata": {
    "application/vnd.databricks.v1+cell": {
     "cellMetadata": {},
     "inputWidgets": {},
     "nuid": "ab5caf5f-cf90-4fd2-b2b0-c150a95d2449",
     "showTitle": false,
     "tableResultSettingsMap": {},
     "title": ""
    }
   },
   "source": [
    "Top drugs by total spend"
   ]
  },
  {
   "cell_type": "code",
   "execution_count": 0,
   "metadata": {
    "application/vnd.databricks.v1+cell": {
     "cellMetadata": {
      "byteLimit": 2048000,
      "rowLimit": 10000
     },
     "inputWidgets": {},
     "nuid": "2b48ece7-2079-4f3b-ab6a-021c3853077d",
     "showTitle": false,
     "tableResultSettingsMap": {},
     "title": ""
    }
   },
   "outputs": [],
   "source": [
    "from pyspark.sql.functions import sum as _sum, count\n",
    "\n",
    "top_drugs = pde_silver.groupBy(\"prod_srvc_id\").agg(\n",
    "    count(\"pde_id\").alias(\"prescription_count\"),\n",
    "    _sum(\"tot_rx_cst_amt\").alias(\"total_cost\")\n",
    ").orderBy(\"total_cost\", ascending=False)\n",
    "\n",
    "top_drugs.write.mode(\"overwrite\").parquet(\"/mnt/gold/pde/top_drugs_by_cost\")\n"
   ]
  },
  {
   "cell_type": "code",
   "execution_count": 0,
   "metadata": {
    "application/vnd.databricks.v1+cell": {
     "cellMetadata": {
      "byteLimit": 2048000,
      "rowLimit": 10000
     },
     "inputWidgets": {},
     "nuid": "102f5d6a-9d23-4703-9ba4-d4c36006251c",
     "showTitle": false,
     "tableResultSettingsMap": {},
     "title": ""
    }
   },
   "outputs": [],
   "source": [
    "top_drugs.show()"
   ]
  },
  {
   "cell_type": "markdown",
   "metadata": {
    "application/vnd.databricks.v1+cell": {
     "cellMetadata": {},
     "inputWidgets": {},
     "nuid": "a20bf39a-a87f-4657-9bb5-9d8a36922c37",
     "showTitle": false,
     "tableResultSettingsMap": {},
     "title": ""
    }
   },
   "source": [
    "Patient spend summary"
   ]
  },
  {
   "cell_type": "code",
   "execution_count": 0,
   "metadata": {
    "application/vnd.databricks.v1+cell": {
     "cellMetadata": {
      "byteLimit": 2048000,
      "rowLimit": 10000
     },
     "inputWidgets": {},
     "nuid": "445c4f26-0486-44e6-aafe-d34a467f9bbe",
     "showTitle": false,
     "tableResultSettingsMap": {},
     "title": ""
    }
   },
   "outputs": [],
   "source": [
    "patient_spend = pde_silver.groupBy(\"desynpuf_id\").agg(\n",
    "    _sum(\"ptnt_pay_amt\").alias(\"total_patient_payment\"),\n",
    "    _sum(\"tot_rx_cst_amt\").alias(\"total_drug_cost\")\n",
    ")\n",
    "\n",
    "patient_spend.write.mode(\"overwrite\").parquet(\"/mnt/gold/pde/patient_spend_summary\")\n"
   ]
  },
  {
   "cell_type": "code",
   "execution_count": 0,
   "metadata": {
    "application/vnd.databricks.v1+cell": {
     "cellMetadata": {
      "byteLimit": 2048000,
      "rowLimit": 10000
     },
     "inputWidgets": {},
     "nuid": "a124c4d2-b415-49b6-89dd-543dda1d5ccf",
     "showTitle": false,
     "tableResultSettingsMap": {},
     "title": ""
    }
   },
   "outputs": [],
   "source": [
    "patient_spend.show()"
   ]
  },
  {
   "cell_type": "markdown",
   "metadata": {
    "application/vnd.databricks.v1+cell": {
     "cellMetadata": {},
     "inputWidgets": {},
     "nuid": "d519a9cd-6d2e-455a-a65c-7ed12c902c7b",
     "showTitle": false,
     "tableResultSettingsMap": {},
     "title": ""
    }
   },
   "source": [
    "Prescription activity over time"
   ]
  },
  {
   "cell_type": "code",
   "execution_count": 0,
   "metadata": {
    "application/vnd.databricks.v1+cell": {
     "cellMetadata": {
      "byteLimit": 2048000,
      "rowLimit": 10000
     },
     "inputWidgets": {},
     "nuid": "96d586b2-06c1-4428-91a3-611e2b48ab95",
     "showTitle": false,
     "tableResultSettingsMap": {},
     "title": ""
    }
   },
   "outputs": [],
   "source": [
    "daily_rx_trend = pde_silver.groupBy(\"srvc_dt\").agg(\n",
    "    count(\"pde_id\").alias(\"prescription_count\"),\n",
    "    _sum(\"tot_rx_cst_amt\").alias(\"total_cost\")\n",
    ").orderBy(\"srvc_dt\")\n",
    "\n",
    "daily_rx_trend.write.mode(\"overwrite\").parquet(\"/mnt/gold/pde/prescription_trends\")\n"
   ]
  },
  {
   "cell_type": "code",
   "execution_count": 0,
   "metadata": {
    "application/vnd.databricks.v1+cell": {
     "cellMetadata": {
      "byteLimit": 2048000,
      "rowLimit": 10000
     },
     "inputWidgets": {},
     "nuid": "2ccdf117-435e-4684-b836-35754a75bb92",
     "showTitle": false,
     "tableResultSettingsMap": {},
     "title": ""
    }
   },
   "outputs": [],
   "source": [
    "daily_rx_trend.show()"
   ]
  }
 ],
 "metadata": {
  "application/vnd.databricks.v1+notebook": {
   "computePreferences": null,
   "dashboards": [],
   "environmentMetadata": {
    "base_environment": "",
    "environment_version": "2"
   },
   "inputWidgetPreferences": null,
   "language": "python",
   "notebookMetadata": {
    "pythonIndentUnit": 4
   },
   "notebookName": "pde silver to gold",
   "widgets": {}
  },
  "language_info": {
   "name": "python"
  }
 },
 "nbformat": 4,
 "nbformat_minor": 0
}
