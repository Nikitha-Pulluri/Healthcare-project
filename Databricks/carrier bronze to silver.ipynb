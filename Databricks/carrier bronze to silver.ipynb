{
 "cells": [
  {
   "cell_type": "code",
   "execution_count": 0,
   "metadata": {
    "application/vnd.databricks.v1+cell": {
     "cellMetadata": {
      "byteLimit": 2048000,
      "rowLimit": 10000
     },
     "inputWidgets": {},
     "nuid": "b879900e-f344-47af-a553-e45280acefcf",
     "showTitle": false,
     "tableResultSettingsMap": {},
     "title": ""
    }
   },
   "outputs": [],
   "source": [
    "carrier = spark.read.parquet(\"/mnt/bronze/carrier/carrier_claims.parquet\")"
   ]
  },
  {
   "cell_type": "code",
   "execution_count": 0,
   "metadata": {
    "application/vnd.databricks.v1+cell": {
     "cellMetadata": {
      "byteLimit": 2048000,
      "rowLimit": 10000
     },
     "inputWidgets": {},
     "nuid": "a8e19cce-560a-4a53-b13c-32c9c4bb9c1b",
     "showTitle": false,
     "tableResultSettingsMap": {},
     "title": ""
    }
   },
   "outputs": [],
   "source": [
    "from pyspark.sql.functions import to_date, col\n",
    "\n",
    "def standardize_columns(df):\n",
    "    return df.toDF(*[c.lower() for c in df.columns])\n",
    "    \n",
    "# Clean Carrier\n",
    "\n",
    "carrier_clean = (\n",
    "    carrier.dropDuplicates([\"DESYNPUF_ID\", \"CLM_ID\"])\n",
    "    .withColumn(\"CLM_FROM_DT\", to_date(col(\"CLM_FROM_DT\"), \"yyyyMMdd\"))\n",
    "    .withColumn(\"CLM_THRU_DT\", to_date(col(\"CLM_THRU_DT\"), \"yyyyMMdd\"))\n",
    "    .fillna(\"unknown\")\n",
    ")\n",
    "\n",
    "carrier_clean = standardize_columns(carrier_clean)"
   ]
  },
  {
   "cell_type": "code",
   "execution_count": 0,
   "metadata": {
    "application/vnd.databricks.v1+cell": {
     "cellMetadata": {
      "byteLimit": 2048000,
      "rowLimit": 10000
     },
     "inputWidgets": {},
     "nuid": "b848d8b5-3967-4fc3-80a0-e3e73b241f5d",
     "showTitle": false,
     "tableResultSettingsMap": {},
     "title": ""
    }
   },
   "outputs": [],
   "source": [
    "carrier_clean.write.mode(\"overwrite\").parquet(\"/mnt/silver/carrier/carrier_clean\")"
   ]
  },
  {
   "cell_type": "code",
   "execution_count": 0,
   "metadata": {
    "application/vnd.databricks.v1+cell": {
     "cellMetadata": {
      "byteLimit": 2048000,
      "rowLimit": 10000
     },
     "inputWidgets": {},
     "nuid": "55dd2a75-6767-42c2-bf7f-5c23c8207988",
     "showTitle": false,
     "tableResultSettingsMap": {},
     "title": ""
    }
   },
   "outputs": [],
   "source": [
    "from pyspark.sql.functions import col, year, when, to_date, lit\n",
    "\n",
    "# Carrier Silver Table\n",
    "carrier_silver = carrier_clean.filter(\n",
    "    col(\"clm_id\").isNotNull() & col(\"clm_from_dt\").isNotNull()\n",
    ").select(\n",
    "    \"desynpuf_id\", \"clm_id\", \"clm_from_dt\", \"clm_thru_dt\",\n",
    "    \"icd9_dgns_cd_1\", \"prf_physn_npi_1\", \"hcpcs_cd_1\"\n",
    ")"
   ]
  },
  {
   "cell_type": "code",
   "execution_count": 0,
   "metadata": {
    "application/vnd.databricks.v1+cell": {
     "cellMetadata": {
      "byteLimit": 2048000,
      "rowLimit": 10000
     },
     "inputWidgets": {},
     "nuid": "ea409056-1056-453c-8121-fc7e800496a2",
     "showTitle": false,
     "tableResultSettingsMap": {},
     "title": ""
    }
   },
   "outputs": [],
   "source": [
    "carrier_silver.write.mode(\"overwrite\").parquet(\"/mnt/silver/carrier/carrier_silver\")"
   ]
  },
  {
   "cell_type": "code",
   "execution_count": 0,
   "metadata": {
    "application/vnd.databricks.v1+cell": {
     "cellMetadata": {
      "byteLimit": 2048000,
      "rowLimit": 10000
     },
     "inputWidgets": {},
     "nuid": "03cd2d52-5d25-463d-a1ad-bf09e54bcd7e",
     "showTitle": false,
     "tableResultSettingsMap": {},
     "title": ""
    }
   },
   "outputs": [],
   "source": [
    "carrier_clean.show(5)"
   ]
  }
 ],
 "metadata": {
  "application/vnd.databricks.v1+notebook": {
   "computePreferences": null,
   "dashboards": [],
   "environmentMetadata": {
    "base_environment": "",
    "environment_version": "2"
   },
   "inputWidgetPreferences": null,
   "language": "python",
   "notebookMetadata": {
    "pythonIndentUnit": 4
   },
   "notebookName": "carrier bronze to silver",
   "widgets": {}
  },
  "language_info": {
   "name": "python"
  }
 },
 "nbformat": 4,
 "nbformat_minor": 0
}
