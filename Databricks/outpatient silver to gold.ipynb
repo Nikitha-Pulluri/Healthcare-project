{
 "cells": [
  {
   "cell_type": "code",
   "execution_count": 0,
   "metadata": {
    "application/vnd.databricks.v1+cell": {
     "cellMetadata": {
      "byteLimit": 2048000,
      "rowLimit": 10000
     },
     "inputWidgets": {},
     "nuid": "92cb2ea1-3583-4df9-9d4b-e54812ec856c",
     "showTitle": false,
     "tableResultSettingsMap": {},
     "title": ""
    }
   },
   "outputs": [],
   "source": [
    "from pyspark.sql import functions as F\n",
    "from pyspark.sql.window import Window\n",
    "\n",
    "# Core column and expression functions\n",
    "from pyspark.sql.functions import col, lit, when, lag, datediff\n",
    "\n",
    "# Date-related functions\n",
    "from pyspark.sql.functions import year, month\n",
    "\n",
    "# Aggregation functions\n",
    "from pyspark.sql.functions import sum as _sum, avg, count, rank"
   ]
  },
  {
   "cell_type": "code",
   "execution_count": 0,
   "metadata": {
    "application/vnd.databricks.v1+cell": {
     "cellMetadata": {
      "byteLimit": 2048000,
      "rowLimit": 10000
     },
     "inputWidgets": {},
     "nuid": "28ad80cb-d929-4896-8581-6343f821ca89",
     "showTitle": false,
     "tableResultSettingsMap": {},
     "title": ""
    }
   },
   "outputs": [],
   "source": [
    "outpatient_silver = spark.read.parquet(\"/mnt/silver/outpatient/outpatient_silver\")"
   ]
  },
  {
   "cell_type": "markdown",
   "metadata": {
    "application/vnd.databricks.v1+cell": {
     "cellMetadata": {},
     "inputWidgets": {},
     "nuid": "425435c6-3ad8-4b70-ae81-c5f241427f99",
     "showTitle": false,
     "tableResultSettingsMap": {},
     "title": ""
    }
   },
   "source": []
  },
  {
   "cell_type": "code",
   "execution_count": 0,
   "metadata": {
    "application/vnd.databricks.v1+cell": {
     "cellMetadata": {
      "byteLimit": 2048000,
      "rowLimit": 10000
     },
     "inputWidgets": {},
     "nuid": "2ef9fe29-89b1-47d7-8a39-b2a091d44aba",
     "showTitle": false,
     "tableResultSettingsMap": {},
     "title": ""
    }
   },
   "outputs": [],
   "source": [
    "from pyspark.sql.functions import datediff, col\n",
    "\n",
    "outpatient_duration = outpatient_silver.withColumn(\n",
    "    \"visit_duration_days\",\n",
    "    datediff(col(\"clm_thru_dt\"), col(\"clm_from_dt\"))\n",
    ").select(\n",
    "    \"desynpuf_id\",\n",
    "    \"clm_id\",\n",
    "    \"clm_from_dt\",\n",
    "    \"clm_thru_dt\",\n",
    "    \"visit_duration_days\"\n",
    ")\n",
    "\n",
    "outpatient_duration.write.mode(\"overwrite\").parquet(\"/mnt/gold/outpatient/visit_duration\")\n"
   ]
  },
  {
   "cell_type": "code",
   "execution_count": 0,
   "metadata": {
    "application/vnd.databricks.v1+cell": {
     "cellMetadata": {
      "byteLimit": 2048000,
      "rowLimit": 10000
     },
     "inputWidgets": {},
     "nuid": "70744ebc-1f79-4602-bdca-eaddc2ead072",
     "showTitle": false,
     "tableResultSettingsMap": {},
     "title": ""
    }
   },
   "outputs": [],
   "source": [
    "outpatient_duration.show()"
   ]
  },
  {
   "cell_type": "markdown",
   "metadata": {
    "application/vnd.databricks.v1+cell": {
     "cellMetadata": {},
     "inputWidgets": {},
     "nuid": "cdb50eed-4b84-4e38-97b1-f064d1feda81",
     "showTitle": false,
     "tableResultSettingsMap": {},
     "title": ""
    }
   },
   "source": [
    "Most common Outpatient procedures"
   ]
  },
  {
   "cell_type": "code",
   "execution_count": 0,
   "metadata": {
    "application/vnd.databricks.v1+cell": {
     "cellMetadata": {
      "byteLimit": 2048000,
      "rowLimit": 10000
     },
     "inputWidgets": {},
     "nuid": "900b64c3-ba00-41b3-b362-9969f94f0222",
     "showTitle": false,
     "tableResultSettingsMap": {},
     "title": ""
    }
   },
   "outputs": [],
   "source": [
    "from pyspark.sql.functions import count\n",
    "\n",
    "top_outpatient_procedures = outpatient_silver.groupBy(\"hcpcs_cd_1\") \\\n",
    "    .agg(count(\"clm_id\").alias(\"procedure_count\")) \\\n",
    "    .orderBy(\"procedure_count\", ascending=False)\n",
    "\n",
    "top_outpatient_procedures.write.mode(\"overwrite\").parquet(\"/mnt/gold/outpatient/top_procedures\")\n"
   ]
  },
  {
   "cell_type": "code",
   "execution_count": 0,
   "metadata": {
    "application/vnd.databricks.v1+cell": {
     "cellMetadata": {
      "byteLimit": 2048000,
      "rowLimit": 10000
     },
     "inputWidgets": {},
     "nuid": "886f4988-015f-401e-9c9e-20cba4a96565",
     "showTitle": false,
     "tableResultSettingsMap": {},
     "title": ""
    }
   },
   "outputs": [],
   "source": [
    "top_outpatient_procedures.show()"
   ]
  },
  {
   "cell_type": "markdown",
   "metadata": {
    "application/vnd.databricks.v1+cell": {
     "cellMetadata": {},
     "inputWidgets": {},
     "nuid": "26681ce8-75b1-41a2-9699-d9670abc227c",
     "showTitle": false,
     "tableResultSettingsMap": {},
     "title": ""
    }
   },
   "source": [
    "Outpatient claims over time"
   ]
  },
  {
   "cell_type": "code",
   "execution_count": 0,
   "metadata": {
    "application/vnd.databricks.v1+cell": {
     "cellMetadata": {
      "byteLimit": 2048000,
      "rowLimit": 10000
     },
     "inputWidgets": {},
     "nuid": "a896dd0f-bb3d-42d8-bbe5-1d0b77760f82",
     "showTitle": false,
     "tableResultSettingsMap": {},
     "title": ""
    }
   },
   "outputs": [],
   "source": [
    "claims_by_date = outpatient_silver.groupBy(\"clm_from_dt\") \\\n",
    "    .agg(count(\"clm_id\").alias(\"daily_claims\")) \\\n",
    "    .orderBy(\"clm_from_dt\")\n",
    "\n",
    "claims_by_date.write.mode(\"overwrite\").parquet(\"/mnt/gold/outpatient/claims_by_date\")\n"
   ]
  },
  {
   "cell_type": "code",
   "execution_count": 0,
   "metadata": {
    "application/vnd.databricks.v1+cell": {
     "cellMetadata": {
      "byteLimit": 2048000,
      "rowLimit": 10000
     },
     "inputWidgets": {},
     "nuid": "eb4fc3a4-792a-46f4-9931-d48b05e41fb1",
     "showTitle": false,
     "tableResultSettingsMap": {},
     "title": ""
    }
   },
   "outputs": [],
   "source": [
    "claims_by_date.show()"
   ]
  }
 ],
 "metadata": {
  "application/vnd.databricks.v1+notebook": {
   "computePreferences": null,
   "dashboards": [],
   "environmentMetadata": {
    "base_environment": "",
    "environment_version": "2"
   },
   "inputWidgetPreferences": null,
   "language": "python",
   "notebookMetadata": {
    "pythonIndentUnit": 4
   },
   "notebookName": "outpatient silver to gold",
   "widgets": {}
  },
  "language_info": {
   "name": "python"
  }
 },
 "nbformat": 4,
 "nbformat_minor": 0
}
